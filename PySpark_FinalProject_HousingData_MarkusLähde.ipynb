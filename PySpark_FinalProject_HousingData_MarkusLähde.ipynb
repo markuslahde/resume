{
 "cells": [
  {
   "cell_type": "code",
   "execution_count": 1,
   "id": "66d2a1b8-9097-49c3-a8bf-7c3433494a1e",
   "metadata": {},
   "outputs": [
    {
     "name": "stdout",
     "output_type": "stream",
     "text": [
      "Requirement already satisfied: pyspark in /home/markuslahde/ENVIRONMENTS/py3.11env/lib/python3.11/site-packages (3.5.1)\n",
      "Requirement already satisfied: py4j==0.10.9.7 in /home/markuslahde/ENVIRONMENTS/py3.11env/lib/python3.11/site-packages (from pyspark) (0.10.9.7)\n",
      "Note: you may need to restart the kernel to use updated packages.\n"
     ]
    }
   ],
   "source": [
    "%pip install pyspark"
   ]
  },
  {
   "cell_type": "markdown",
   "id": "e8f964f9-b65f-48ac-8a7d-6ec159f8504d",
   "metadata": {},
   "source": [
    "### CREATING A SPARK SESSION"
   ]
  },
  {
   "cell_type": "code",
   "execution_count": 2,
   "id": "4d33be10-fc65-4fca-9f85-676eab83e264",
   "metadata": {},
   "outputs": [
    {
     "name": "stderr",
     "output_type": "stream",
     "text": [
      "24/04/17 14:35:33 WARN Utils: Your hostname, Elite resolves to a loopback address: 127.0.1.1; using 172.22.225.214 instead (on interface eth0)\n",
      "24/04/17 14:35:33 WARN Utils: Set SPARK_LOCAL_IP if you need to bind to another address\n",
      "Setting default log level to \"WARN\".\n",
      "To adjust logging level use sc.setLogLevel(newLevel). For SparkR, use setLogLevel(newLevel).\n",
      "24/04/17 14:35:35 WARN NativeCodeLoader: Unable to load native-hadoop library for your platform... using builtin-java classes where applicable\n"
     ]
    },
    {
     "data": {
      "text/html": [
       "\n",
       "            <div>\n",
       "                <p><b>SparkSession - in-memory</b></p>\n",
       "                \n",
       "        <div>\n",
       "            <p><b>SparkContext</b></p>\n",
       "\n",
       "            <p><a href=\"http://172.22.225.214:4040\">Spark UI</a></p>\n",
       "\n",
       "            <dl>\n",
       "              <dt>Version</dt>\n",
       "                <dd><code>v3.5.1</code></dd>\n",
       "              <dt>Master</dt>\n",
       "                <dd><code>local[*]</code></dd>\n",
       "              <dt>AppName</dt>\n",
       "                <dd><code>pyspark-shell</code></dd>\n",
       "            </dl>\n",
       "        </div>\n",
       "        \n",
       "            </div>\n",
       "        "
      ],
      "text/plain": [
       "<pyspark.sql.session.SparkSession at 0x7fba8c2a4650>"
      ]
     },
     "execution_count": 2,
     "metadata": {},
     "output_type": "execute_result"
    }
   ],
   "source": [
    "import pyspark\n",
    "from pyspark.sql import SparkSession\n",
    "spark = SparkSession.builder.master(\"local[*]\").getOrCreate()\n",
    "spark"
   ]
  },
  {
   "cell_type": "markdown",
   "id": "a9f5ba57-b369-44e4-a6c2-6f031f024d45",
   "metadata": {},
   "source": [
    "### DATA LOADING AND SOURCE"
   ]
  },
  {
   "cell_type": "markdown",
   "id": "e9646b5f-6c33-4f37-864d-786ea013439d",
   "metadata": {},
   "source": [
    "Source: https://www.kaggle.com/competitions/home-data-for-ml-course/overview"
   ]
  },
  {
   "cell_type": "code",
   "execution_count": 3,
   "id": "377e0933-caf3-4b4b-869b-e39fca6ebbc5",
   "metadata": {},
   "outputs": [
    {
     "name": "stderr",
     "output_type": "stream",
     "text": [
      "                                                                                \r"
     ]
    }
   ],
   "source": [
    "data = spark.read.csv('train.csv', header=True, inferSchema=True) # inferSchema detects integers, if False everything is string"
   ]
  },
  {
   "cell_type": "markdown",
   "id": "40064c05-c07d-42d1-9fab-e1fc9559e19e",
   "metadata": {},
   "source": [
    "### DATATYPES"
   ]
  },
  {
   "cell_type": "markdown",
   "id": "4776b8b6-2efa-4a85-85e6-e80f5ff04321",
   "metadata": {},
   "source": [
    "### DIVIDE DATA TO DATAFRAMES BY DATATYPE ( AND PREVIOUS KNOWLEDGE OF COLUMN DATA )"
   ]
  },
  {
   "cell_type": "code",
   "execution_count": 4,
   "id": "c28f78f7-56de-46d6-b222-f4dea8ec4ae6",
   "metadata": {},
   "outputs": [],
   "source": [
    "continuous_columns_1 = [\n",
    "\t\t\t'LotArea',\n",
    "\t\t\t'BsmtFinSF1',\n",
    "\t\t\t'BsmtFinSF2',\n",
    "\t\t\t'BsmtUnfSF',\n",
    "\t\t\t'TotalBsmtSF',\n",
    "\t\t\t'1stFlrSF',\n",
    "\t\t\t'2ndFlrSF',\n",
    "\t\t\t'LowQualFinSF',\n",
    "\t\t\t'GrLivArea',\n",
    "            'SalePrice'\n",
    "]\n",
    "\n",
    "continuous_columns_2 = [\n",
    "\t\t\t'GarageArea',\n",
    "\t\t\t'WoodDeckSF',\n",
    "\t\t\t'OpenPorchSF',\n",
    "\t\t\t'EnclosedPorch',\n",
    "\t\t\t'3SsnPorch',\n",
    "\t\t\t'ScreenPorch',\n",
    "\t\t\t'PoolArea',\n",
    "\t\t\t'MiscVal',\n",
    "\t\t\t'YearBuilt',\n",
    "\t\t\t'YearRemodAdd',\n",
    "\t\t\t'YrSold',\n",
    "            'SalePrice'\n",
    "]\n",
    "\n",
    "discrete_columns = [\n",
    "\t\t\t'BsmtFullBath',\n",
    "\t\t\t'BsmtHalfBath',\n",
    "\t\t\t'FullBath',\n",
    "\t\t\t'HalfBath',\n",
    "\t\t\t'BedroomAbvGr',\n",
    "\t\t\t'KitchenAbvGr',\n",
    "\t\t\t'TotRmsAbvGrd',\n",
    "\t\t\t'Fireplaces',\n",
    "\t\t\t'GarageCars',\n",
    "\t\t\t'MoSold'\n",
    "]\n",
    "\n",
    "ordinal_columns = [\n",
    "                'HeatingQC',\n",
    "                'CentralAir',\n",
    "                'ExterQual',\n",
    "                'ExterCond',\n",
    "                'KitchenQual',\n",
    "                'Functional',\n",
    "                'FireplaceQu',\n",
    "                'GarageQual',\n",
    "                'GarageCond',\n",
    "                'PoolQC',\n",
    "                'Utilities',\n",
    "                'SalePrice'\n",
    "]\n",
    "\n",
    "nominal_columns_1 = ['LotFrontage','MasVnrArea',\n",
    "    'MSZoning', 'Street', 'Alley', 'LotShape', 'LandContour', 'LotConfig', 'LandSlope',\n",
    "    'Neighborhood', 'Condition1', 'Condition2', 'BldgType', \n",
    "]\n",
    "\n",
    "nominal_columns_2 = [\n",
    "    'HouseStyle', 'RoofStyle',\n",
    "    'RoofMatl', 'Exterior1st', 'Exterior2nd', 'MasVnrType', 'Foundation', 'BsmtQual',\n",
    "    'BsmtCond', 'BsmtExposure', 'BsmtFinType1', 'BsmtFinType2'\n",
    "]\n",
    "\n",
    "nominal_columns_3 = [\n",
    "   'Heating', 'Electrical','GarageYrBlt',\n",
    "    'GarageType', 'GarageFinish', 'PavedDrive', 'Fence', 'MiscFeature', 'SaleType',\n",
    "    'SaleCondition'\n",
    "]\n",
    "\n",
    "\n",
    "data_continuous_1 = data.select(continuous_columns_1)\n",
    "data_continuous_2 = data.select(continuous_columns_2)\n",
    "\n",
    "data_discrete = data.select(discrete_columns)\n",
    "\n",
    "data_ordinal = data.select(ordinal_columns)\n",
    "\n",
    "data_nominal_1 = data.select(nominal_columns_1)\n",
    "data_nominal_2 = data.select(nominal_columns_2)\n",
    "data_nominal_3 = data.select(nominal_columns_3)"
   ]
  },
  {
   "cell_type": "code",
   "execution_count": 5,
   "id": "295b46db-7c2a-42c4-a3d4-89704ee48679",
   "metadata": {},
   "outputs": [
    {
     "name": "stdout",
     "output_type": "stream",
     "text": [
      "root\n",
      " |-- LotArea: integer (nullable = true)\n",
      " |-- BsmtFinSF1: integer (nullable = true)\n",
      " |-- BsmtFinSF2: integer (nullable = true)\n",
      " |-- BsmtUnfSF: integer (nullable = true)\n",
      " |-- TotalBsmtSF: integer (nullable = true)\n",
      " |-- 1stFlrSF: integer (nullable = true)\n",
      " |-- 2ndFlrSF: integer (nullable = true)\n",
      " |-- LowQualFinSF: integer (nullable = true)\n",
      " |-- GrLivArea: integer (nullable = true)\n",
      " |-- SalePrice: integer (nullable = true)\n",
      "\n"
     ]
    }
   ],
   "source": [
    "data_continuous_1.printSchema()"
   ]
  },
  {
   "cell_type": "code",
   "execution_count": 6,
   "id": "7e8fd985-f3d1-4d53-b5a3-1fa589f63006",
   "metadata": {},
   "outputs": [
    {
     "name": "stdout",
     "output_type": "stream",
     "text": [
      "root\n",
      " |-- GarageArea: integer (nullable = true)\n",
      " |-- WoodDeckSF: integer (nullable = true)\n",
      " |-- OpenPorchSF: integer (nullable = true)\n",
      " |-- EnclosedPorch: integer (nullable = true)\n",
      " |-- 3SsnPorch: integer (nullable = true)\n",
      " |-- ScreenPorch: integer (nullable = true)\n",
      " |-- PoolArea: integer (nullable = true)\n",
      " |-- MiscVal: integer (nullable = true)\n",
      " |-- YearBuilt: integer (nullable = true)\n",
      " |-- YearRemodAdd: integer (nullable = true)\n",
      " |-- YrSold: integer (nullable = true)\n",
      " |-- SalePrice: integer (nullable = true)\n",
      "\n"
     ]
    }
   ],
   "source": [
    "data_continuous_2.printSchema()"
   ]
  },
  {
   "cell_type": "code",
   "execution_count": 7,
   "id": "be1be9e0-9bed-4e5a-b09f-4f6be6a75088",
   "metadata": {},
   "outputs": [
    {
     "name": "stdout",
     "output_type": "stream",
     "text": [
      "root\n",
      " |-- BsmtFullBath: integer (nullable = true)\n",
      " |-- BsmtHalfBath: integer (nullable = true)\n",
      " |-- FullBath: integer (nullable = true)\n",
      " |-- HalfBath: integer (nullable = true)\n",
      " |-- BedroomAbvGr: integer (nullable = true)\n",
      " |-- KitchenAbvGr: integer (nullable = true)\n",
      " |-- TotRmsAbvGrd: integer (nullable = true)\n",
      " |-- Fireplaces: integer (nullable = true)\n",
      " |-- GarageCars: integer (nullable = true)\n",
      " |-- MoSold: integer (nullable = true)\n",
      "\n"
     ]
    }
   ],
   "source": [
    "data_discrete.printSchema()"
   ]
  },
  {
   "cell_type": "code",
   "execution_count": 8,
   "id": "07e9b14a-ddbb-447e-857f-10011e07e5c3",
   "metadata": {},
   "outputs": [
    {
     "name": "stdout",
     "output_type": "stream",
     "text": [
      "root\n",
      " |-- HeatingQC: string (nullable = true)\n",
      " |-- CentralAir: string (nullable = true)\n",
      " |-- ExterQual: string (nullable = true)\n",
      " |-- ExterCond: string (nullable = true)\n",
      " |-- KitchenQual: string (nullable = true)\n",
      " |-- Functional: string (nullable = true)\n",
      " |-- FireplaceQu: string (nullable = true)\n",
      " |-- GarageQual: string (nullable = true)\n",
      " |-- GarageCond: string (nullable = true)\n",
      " |-- PoolQC: string (nullable = true)\n",
      " |-- Utilities: string (nullable = true)\n",
      " |-- SalePrice: integer (nullable = true)\n",
      "\n"
     ]
    }
   ],
   "source": [
    "data_ordinal.printSchema()"
   ]
  },
  {
   "cell_type": "code",
   "execution_count": 9,
   "id": "d5bd01d5-e11a-4113-8db0-7131bb7b58a9",
   "metadata": {},
   "outputs": [
    {
     "name": "stdout",
     "output_type": "stream",
     "text": [
      "root\n",
      " |-- LotFrontage: string (nullable = true)\n",
      " |-- MasVnrArea: string (nullable = true)\n",
      " |-- MSZoning: string (nullable = true)\n",
      " |-- Street: string (nullable = true)\n",
      " |-- Alley: string (nullable = true)\n",
      " |-- LotShape: string (nullable = true)\n",
      " |-- LandContour: string (nullable = true)\n",
      " |-- LotConfig: string (nullable = true)\n",
      " |-- LandSlope: string (nullable = true)\n",
      " |-- Neighborhood: string (nullable = true)\n",
      " |-- Condition1: string (nullable = true)\n",
      " |-- Condition2: string (nullable = true)\n",
      " |-- BldgType: string (nullable = true)\n",
      "\n"
     ]
    }
   ],
   "source": [
    "data_nominal_1.printSchema()"
   ]
  },
  {
   "cell_type": "code",
   "execution_count": 10,
   "id": "1adc2e70-a558-4e65-8e00-a26b582fb552",
   "metadata": {},
   "outputs": [
    {
     "name": "stdout",
     "output_type": "stream",
     "text": [
      "root\n",
      " |-- HouseStyle: string (nullable = true)\n",
      " |-- RoofStyle: string (nullable = true)\n",
      " |-- RoofMatl: string (nullable = true)\n",
      " |-- Exterior1st: string (nullable = true)\n",
      " |-- Exterior2nd: string (nullable = true)\n",
      " |-- MasVnrType: string (nullable = true)\n",
      " |-- Foundation: string (nullable = true)\n",
      " |-- BsmtQual: string (nullable = true)\n",
      " |-- BsmtCond: string (nullable = true)\n",
      " |-- BsmtExposure: string (nullable = true)\n",
      " |-- BsmtFinType1: string (nullable = true)\n",
      " |-- BsmtFinType2: string (nullable = true)\n",
      "\n"
     ]
    }
   ],
   "source": [
    "data_nominal_2.printSchema()"
   ]
  },
  {
   "cell_type": "code",
   "execution_count": 11,
   "id": "70d86d35-9b10-48ac-8898-7ce09a729a2f",
   "metadata": {},
   "outputs": [
    {
     "name": "stdout",
     "output_type": "stream",
     "text": [
      "root\n",
      " |-- Heating: string (nullable = true)\n",
      " |-- Electrical: string (nullable = true)\n",
      " |-- GarageYrBlt: string (nullable = true)\n",
      " |-- GarageType: string (nullable = true)\n",
      " |-- GarageFinish: string (nullable = true)\n",
      " |-- PavedDrive: string (nullable = true)\n",
      " |-- Fence: string (nullable = true)\n",
      " |-- MiscFeature: string (nullable = true)\n",
      " |-- SaleType: string (nullable = true)\n",
      " |-- SaleCondition: string (nullable = true)\n",
      "\n"
     ]
    }
   ],
   "source": [
    "data_nominal_3.printSchema()"
   ]
  },
  {
   "cell_type": "markdown",
   "id": "317431e2-d147-4241-810b-ada4685fdcbd",
   "metadata": {},
   "source": [
    "### GENERAL INFO"
   ]
  },
  {
   "cell_type": "code",
   "execution_count": 12,
   "id": "6b872e78-7045-4bf2-b1fb-e01c256b74c4",
   "metadata": {},
   "outputs": [
    {
     "name": "stderr",
     "output_type": "stream",
     "text": [
      "24/04/17 14:36:14 WARN SparkStringUtils: Truncated the string representation of a plan since it was too large. This behavior can be adjusted by setting 'spark.sql.debug.maxToStringFields'.\n",
      "[Stage 2:>                                                          (0 + 1) / 1]\r"
     ]
    },
    {
     "name": "stdout",
     "output_type": "stream",
     "text": [
      "+-------+--------+----------+----------+---------+-----------+--------+--------+------------+---------+---------+\n",
      "|summary| LotArea|BsmtFinSF1|BsmtFinSF2|BsmtUnfSF|TotalBsmtSF|1stFlrSF|2ndFlrSF|LowQualFinSF|GrLivArea|SalePrice|\n",
      "+-------+--------+----------+----------+---------+-----------+--------+--------+------------+---------+---------+\n",
      "|  count|  1460.0|    1460.0|    1460.0|   1460.0|     1460.0|  1460.0|  1460.0|      1460.0|   1460.0|   1460.0|\n",
      "|   mean|10516.83|    443.64|     46.55|   567.24|    1057.43| 1162.63|  346.99|        5.84|  1515.46| 180921.2|\n",
      "| stddev| 9981.26|     456.1|    161.32|   441.87|     438.71|  386.59|  436.53|       48.62|   525.48|  79442.5|\n",
      "|    min|  1300.0|       0.0|       0.0|      0.0|        0.0|   334.0|     0.0|         0.0|    334.0|  34900.0|\n",
      "|    max|215245.0|    5644.0|    1474.0|   2336.0|     6110.0|  4692.0|  2065.0|       572.0|   5642.0| 755000.0|\n",
      "+-------+--------+----------+----------+---------+-----------+--------+--------+------------+---------+---------+\n",
      "\n"
     ]
    },
    {
     "name": "stderr",
     "output_type": "stream",
     "text": [
      "                                                                                \r"
     ]
    }
   ],
   "source": [
    "from pyspark.sql import functions as f\n",
    "\n",
    "def describe_w_round(dataframe):\n",
    "    dataframe.describe()\\\n",
    "      .select('summary', *[f.round(c, 2).alias(c) for c in dataframe.columns])\\\n",
    "      .show()\n",
    "\n",
    "dataframe = data_continuous_1\n",
    "describe_w_round(dataframe)"
   ]
  },
  {
   "cell_type": "code",
   "execution_count": 13,
   "id": "2506a118-5f95-423c-a9cb-1074f96e92d0",
   "metadata": {},
   "outputs": [
    {
     "name": "stdout",
     "output_type": "stream",
     "text": [
      "+-------+----------+----------+-----------+-------------+---------+-----------+--------+-------+---------+------------+-------+---------+\n",
      "|summary|GarageArea|WoodDeckSF|OpenPorchSF|EnclosedPorch|3SsnPorch|ScreenPorch|PoolArea|MiscVal|YearBuilt|YearRemodAdd| YrSold|SalePrice|\n",
      "+-------+----------+----------+-----------+-------------+---------+-----------+--------+-------+---------+------------+-------+---------+\n",
      "|  count|    1460.0|    1460.0|     1460.0|       1460.0|   1460.0|     1460.0|  1460.0| 1460.0|   1460.0|      1460.0| 1460.0|   1460.0|\n",
      "|   mean|    472.98|     94.24|      46.66|        21.95|     3.41|      15.06|    2.76|  43.49|  1971.27|     1984.87|2007.82| 180921.2|\n",
      "| stddev|     213.8|    125.34|      66.26|        61.12|    29.32|      55.76|   40.18| 496.12|     30.2|       20.65|   1.33|  79442.5|\n",
      "|    min|       0.0|       0.0|        0.0|          0.0|      0.0|        0.0|     0.0|    0.0|   1872.0|      1950.0| 2006.0|  34900.0|\n",
      "|    max|    1418.0|     857.0|      547.0|        552.0|    508.0|      480.0|   738.0|15500.0|   2010.0|      2010.0| 2010.0| 755000.0|\n",
      "+-------+----------+----------+-----------+-------------+---------+-----------+--------+-------+---------+------------+-------+---------+\n",
      "\n"
     ]
    }
   ],
   "source": [
    "dataframe = data_continuous_2\n",
    "describe_w_round(dataframe)"
   ]
  },
  {
   "cell_type": "code",
   "execution_count": 14,
   "id": "0911e78c-2f18-4340-9606-3f88427e6f7e",
   "metadata": {},
   "outputs": [
    {
     "name": "stdout",
     "output_type": "stream",
     "text": [
      "+-------+------------+------------+--------+--------+------------+------------+------------+----------+----------+------+\n",
      "|summary|BsmtFullBath|BsmtHalfBath|FullBath|HalfBath|BedroomAbvGr|KitchenAbvGr|TotRmsAbvGrd|Fireplaces|GarageCars|MoSold|\n",
      "+-------+------------+------------+--------+--------+------------+------------+------------+----------+----------+------+\n",
      "|  count|      1460.0|      1460.0|  1460.0|  1460.0|      1460.0|      1460.0|      1460.0|    1460.0|    1460.0|1460.0|\n",
      "|   mean|        0.43|        0.06|    1.57|    0.38|        2.87|        1.05|        6.52|      0.61|      1.77|  6.32|\n",
      "| stddev|        0.52|        0.24|    0.55|     0.5|        0.82|        0.22|        1.63|      0.64|      0.75|   2.7|\n",
      "|    min|         0.0|         0.0|     0.0|     0.0|         0.0|         0.0|         2.0|       0.0|       0.0|   1.0|\n",
      "|    max|         3.0|         2.0|     3.0|     2.0|         8.0|         3.0|        14.0|       3.0|       4.0|  12.0|\n",
      "+-------+------------+------------+--------+--------+------------+------------+------------+----------+----------+------+\n",
      "\n"
     ]
    }
   ],
   "source": [
    "dataframe = data_discrete\n",
    "describe_w_round(dataframe)"
   ]
  },
  {
   "cell_type": "code",
   "execution_count": 15,
   "id": "ba305562-90c8-4333-a469-350b081585f6",
   "metadata": {},
   "outputs": [
    {
     "name": "stderr",
     "output_type": "stream",
     "text": [
      "[Stage 11:>                                                         (0 + 1) / 1]\r"
     ]
    },
    {
     "name": "stdout",
     "output_type": "stream",
     "text": [
      "+-------+---------+----------+---------+---------+-----------+----------+-----------+----------+----------+------+---------+------------------+\n",
      "|summary|HeatingQC|CentralAir|ExterQual|ExterCond|KitchenQual|Functional|FireplaceQu|GarageQual|GarageCond|PoolQC|Utilities|         SalePrice|\n",
      "+-------+---------+----------+---------+---------+-----------+----------+-----------+----------+----------+------+---------+------------------+\n",
      "|  count|     1460|      1460|     1460|     1460|       1460|      1460|       1460|      1460|      1460|  1460|     1460|              1460|\n",
      "|   mean|     NULL|      NULL|     NULL|     NULL|       NULL|      NULL|       NULL|      NULL|      NULL|  NULL|     NULL|180921.19589041095|\n",
      "| stddev|     NULL|      NULL|     NULL|     NULL|       NULL|      NULL|       NULL|      NULL|      NULL|  NULL|     NULL| 79442.50288288663|\n",
      "|    min|       Ex|         N|       Ex|       Ex|         Ex|      Maj1|         Ex|        Ex|        Ex|    Ex|   AllPub|             34900|\n",
      "|    max|       TA|         Y|       TA|       TA|         TA|       Typ|         TA|        TA|        TA|    NA|   NoSeWa|            755000|\n",
      "+-------+---------+----------+---------+---------+-----------+----------+-----------+----------+----------+------+---------+------------------+\n",
      "\n"
     ]
    },
    {
     "name": "stderr",
     "output_type": "stream",
     "text": [
      "                                                                                \r"
     ]
    }
   ],
   "source": [
    "data_ordinal.describe().show()"
   ]
  },
  {
   "cell_type": "code",
   "execution_count": 16,
   "id": "99c20b3a-82fe-4624-aeb4-9f7755677c43",
   "metadata": {},
   "outputs": [
    {
     "name": "stderr",
     "output_type": "stream",
     "text": [
      "[Stage 14:>                                                         (0 + 1) / 1]\r"
     ]
    },
    {
     "name": "stdout",
     "output_type": "stream",
     "text": [
      "+-------+-----------------+------------------+--------+------+-----+--------+-----------+---------+---------+------------+----------+----------+--------+\n",
      "|summary|      LotFrontage|        MasVnrArea|MSZoning|Street|Alley|LotShape|LandContour|LotConfig|LandSlope|Neighborhood|Condition1|Condition2|BldgType|\n",
      "+-------+-----------------+------------------+--------+------+-----+--------+-----------+---------+---------+------------+----------+----------+--------+\n",
      "|  count|             1460|              1460|    1460|  1460| 1460|    1460|       1460|     1460|     1460|        1460|      1460|      1460|    1460|\n",
      "|   mean|70.04995836802665|103.68526170798899|    NULL|  NULL| NULL|    NULL|       NULL|     NULL|     NULL|        NULL|      NULL|      NULL|    NULL|\n",
      "| stddev|24.28475177448321|181.06620658721647|    NULL|  NULL| NULL|    NULL|       NULL|     NULL|     NULL|        NULL|      NULL|      NULL|    NULL|\n",
      "|    min|              100|                 0| C (all)|  Grvl| Grvl|     IR1|        Bnk|   Corner|      Gtl|     Blmngtn|    Artery|    Artery|    1Fam|\n",
      "|    max|               NA|                NA|      RM|  Pave| Pave|     Reg|        Lvl|   Inside|      Sev|     Veenker|      RRNn|      RRNn|  TwnhsE|\n",
      "+-------+-----------------+------------------+--------+------+-----+--------+-----------+---------+---------+------------+----------+----------+--------+\n",
      "\n"
     ]
    },
    {
     "name": "stderr",
     "output_type": "stream",
     "text": [
      "                                                                                \r"
     ]
    }
   ],
   "source": [
    "data_nominal_1.describe().show()"
   ]
  },
  {
   "cell_type": "code",
   "execution_count": 17,
   "id": "99765e92-06ae-4555-bc49-472fc03866b4",
   "metadata": {},
   "outputs": [
    {
     "name": "stderr",
     "output_type": "stream",
     "text": [
      "[Stage 17:>                                                         (0 + 1) / 1]\r"
     ]
    },
    {
     "name": "stdout",
     "output_type": "stream",
     "text": [
      "+-------+----------+---------+--------+-----------+-----------+----------+----------+--------+--------+------------+------------+------------+\n",
      "|summary|HouseStyle|RoofStyle|RoofMatl|Exterior1st|Exterior2nd|MasVnrType|Foundation|BsmtQual|BsmtCond|BsmtExposure|BsmtFinType1|BsmtFinType2|\n",
      "+-------+----------+---------+--------+-----------+-----------+----------+----------+--------+--------+------------+------------+------------+\n",
      "|  count|      1460|     1460|    1460|       1460|       1460|      1460|      1460|    1460|    1460|        1460|        1460|        1460|\n",
      "|   mean|      NULL|     NULL|    NULL|       NULL|       NULL|      NULL|      NULL|    NULL|    NULL|        NULL|        NULL|        NULL|\n",
      "| stddev|      NULL|     NULL|    NULL|       NULL|       NULL|      NULL|      NULL|    NULL|    NULL|        NULL|        NULL|        NULL|\n",
      "|    min|    1.5Fin|     Flat| ClyTile|    AsbShng|    AsbShng|    BrkCmn|    BrkTil|      Ex|      Fa|          Av|         ALQ|         ALQ|\n",
      "|    max|      SLvl|     Shed| WdShngl|    WdShing|    Wd Shng|     Stone|      Wood|      TA|      TA|          No|         Unf|         Unf|\n",
      "+-------+----------+---------+--------+-----------+-----------+----------+----------+--------+--------+------------+------------+------------+\n",
      "\n"
     ]
    },
    {
     "name": "stderr",
     "output_type": "stream",
     "text": [
      "                                                                                \r"
     ]
    }
   ],
   "source": [
    "data_nominal_2.describe().show()"
   ]
  },
  {
   "cell_type": "code",
   "execution_count": 18,
   "id": "266b3e43-63ce-4746-bd2f-d8d2dcab0ba7",
   "metadata": {},
   "outputs": [
    {
     "name": "stderr",
     "output_type": "stream",
     "text": [
      "[Stage 20:>                                                         (0 + 1) / 1]\r"
     ]
    },
    {
     "name": "stdout",
     "output_type": "stream",
     "text": [
      "+-------+-------+----------+------------------+----------+------------+----------+-----+-----------+--------+-------------+\n",
      "|summary|Heating|Electrical|       GarageYrBlt|GarageType|GarageFinish|PavedDrive|Fence|MiscFeature|SaleType|SaleCondition|\n",
      "+-------+-------+----------+------------------+----------+------------+----------+-----+-----------+--------+-------------+\n",
      "|  count|   1460|      1460|              1460|      1460|        1460|      1460| 1460|       1460|    1460|         1460|\n",
      "|   mean|   NULL|      NULL|1978.5061638868744|      NULL|        NULL|      NULL| NULL|       NULL|    NULL|         NULL|\n",
      "| stddev|   NULL|      NULL| 24.68972476859027|      NULL|        NULL|      NULL| NULL|       NULL|    NULL|         NULL|\n",
      "|    min|  Floor|     FuseA|              1900|    2Types|         Fin|         N|GdPrv|       Gar2|     COD|      Abnorml|\n",
      "|    max|   Wall|     SBrkr|                NA|        NA|         Unf|         Y|   NA|       TenC|      WD|      Partial|\n",
      "+-------+-------+----------+------------------+----------+------------+----------+-----+-----------+--------+-------------+\n",
      "\n"
     ]
    },
    {
     "name": "stderr",
     "output_type": "stream",
     "text": [
      "                                                                                \r"
     ]
    }
   ],
   "source": [
    "data_nominal_3.describe().show()"
   ]
  },
  {
   "cell_type": "markdown",
   "id": "96f3bd43-23d2-4746-83f9-da30d9e5dc34",
   "metadata": {},
   "source": [
    "### SKEW, KURTOSIS AND STANDARD DEVIATION"
   ]
  },
  {
   "cell_type": "code",
   "execution_count": 19,
   "id": "af314e88-28d5-421d-885b-866b23278517",
   "metadata": {},
   "outputs": [
    {
     "name": "stdout",
     "output_type": "stream",
     "text": [
      "Column<'LotArea'>\n",
      "+----------------+\n",
      "|   std_deviation|\n",
      "+----------------+\n",
      "|9981.26493237915|\n",
      "+----------------+\n",
      "\n",
      "+------------------+------------------+\n",
      "|          skewness|          kurtosis|\n",
      "+------------------+------------------+\n",
      "|12.195142125084459|202.54379275135375|\n",
      "+------------------+------------------+\n",
      "\n",
      "Column<'BsmtFinSF1'>\n",
      "+-----------------+\n",
      "|    std_deviation|\n",
      "+-----------------+\n",
      "|456.0980908409278|\n",
      "+-----------------+\n",
      "\n",
      "+------------------+------------------+\n",
      "|          skewness|          kurtosis|\n",
      "+------------------+------------------+\n",
      "|1.6837708962341809|11.076089857631931|\n",
      "+------------------+------------------+\n",
      "\n",
      "Column<'BsmtFinSF2'>\n",
      "+-----------------+\n",
      "|    std_deviation|\n",
      "+-----------------+\n",
      "|161.3192728065416|\n",
      "+-----------------+\n",
      "\n",
      "+----------------+-----------------+\n",
      "|        skewness|         kurtosis|\n",
      "+----------------+-----------------+\n",
      "|4.25088801705746|20.04041549471301|\n",
      "+----------------+-----------------+\n",
      "\n",
      "Column<'BsmtUnfSF'>\n",
      "+-----------------+\n",
      "|    std_deviation|\n",
      "+-----------------+\n",
      "|441.8669552924343|\n",
      "+-----------------+\n",
      "\n",
      "+------------------+-------------------+\n",
      "|          skewness|           kurtosis|\n",
      "+------------------+-------------------+\n",
      "|0.9193227015581994|0.46926207896831507|\n",
      "+------------------+-------------------+\n",
      "\n",
      "Column<'TotalBsmtSF'>\n",
      "+-----------------+\n",
      "|    std_deviation|\n",
      "+-----------------+\n",
      "|438.7053244594709|\n",
      "+-----------------+\n",
      "\n",
      "+------------------+------------------+\n",
      "|          skewness|          kurtosis|\n",
      "+------------------+------------------+\n",
      "|1.5226880869786306|13.201041630635011|\n",
      "+------------------+------------------+\n",
      "\n",
      "Column<'1stFlrSF'>\n",
      "+-----------------+\n",
      "|    std_deviation|\n",
      "+-----------------+\n",
      "|386.5877380410744|\n",
      "+-----------------+\n",
      "\n",
      "+------------------+-----------------+\n",
      "|          skewness|         kurtosis|\n",
      "+------------------+-----------------+\n",
      "|1.3753417421837968|5.722076026587503|\n",
      "+------------------+-----------------+\n",
      "\n",
      "Column<'2ndFlrSF'>\n",
      "+----------------+\n",
      "|   std_deviation|\n",
      "+----------------+\n",
      "|436.528435886257|\n",
      "+----------------+\n",
      "\n",
      "+------------------+-------------------+\n",
      "|          skewness|           kurtosis|\n",
      "+------------------+-------------------+\n",
      "|0.8121942731961594|-0.5556767272864818|\n",
      "+------------------+-------------------+\n",
      "\n",
      "Column<'LowQualFinSF'>\n",
      "+-----------------+\n",
      "|    std_deviation|\n",
      "+-----------------+\n",
      "|48.62308143352024|\n",
      "+-----------------+\n",
      "\n",
      "+----------------+-----------------+\n",
      "|        skewness|         kurtosis|\n",
      "+----------------+-----------------+\n",
      "|9.00208041765854|82.94593235893034|\n",
      "+----------------+-----------------+\n",
      "\n",
      "Column<'GrLivArea'>\n",
      "+-----------------+\n",
      "|    std_deviation|\n",
      "+-----------------+\n",
      "|525.4803834232024|\n",
      "+-----------------+\n",
      "\n",
      "+------------------+-----------------+\n",
      "|          skewness|         kurtosis|\n",
      "+------------------+-----------------+\n",
      "|1.3651559547734362|4.874265760253221|\n",
      "+------------------+-----------------+\n",
      "\n",
      "Column<'SalePrice'>\n",
      "+-----------------+\n",
      "|    std_deviation|\n",
      "+-----------------+\n",
      "|79442.50288288663|\n",
      "+-----------------+\n",
      "\n",
      "+------------------+-----------------+\n",
      "|          skewness|         kurtosis|\n",
      "+------------------+-----------------+\n",
      "|1.8809407460340333|6.509812011089432|\n",
      "+------------------+-----------------+\n",
      "\n"
     ]
    }
   ],
   "source": [
    "from pyspark.sql import functions as F\n",
    "\n",
    "def skew_kur_std(dataframe):\n",
    "    for column in dataframe:\n",
    "        print(column)\n",
    "        # For standard deviation\n",
    "        std_dev = dataframe.agg(F.stddev(column).alias(\"std_deviation\")).show()\n",
    "        \n",
    "        # For skewness and kurtosis\n",
    "        skew_kurt = dataframe.agg(\n",
    "            F.skewness(column).alias(\"skewness\"),\n",
    "            F.kurtosis(column).alias(\"kurtosis\")\n",
    "        ).show()\n",
    "    \n",
    "dataframe = data_continuous_1\n",
    "skew_kur_std(dataframe)"
   ]
  },
  {
   "cell_type": "code",
   "execution_count": 20,
   "id": "534ab462-8a84-47bd-bfa0-f3d2cba7f15e",
   "metadata": {},
   "outputs": [
    {
     "name": "stdout",
     "output_type": "stream",
     "text": [
      "Column<'GarageArea'>\n",
      "+-----------------+\n",
      "|    std_deviation|\n",
      "+-----------------+\n",
      "|213.8048414533803|\n",
      "+-----------------+\n",
      "\n",
      "+-------------------+------------------+\n",
      "|           skewness|          kurtosis|\n",
      "+-------------------+------------------+\n",
      "|0.17979594205877322|0.9098227950882225|\n",
      "+-------------------+------------------+\n",
      "\n",
      "Column<'WoodDeckSF'>\n",
      "+------------------+\n",
      "|     std_deviation|\n",
      "+------------------+\n",
      "|125.33879435172422|\n",
      "+------------------+\n",
      "\n",
      "+------------------+----------------+\n",
      "|          skewness|        kurtosis|\n",
      "+------------------+----------------+\n",
      "|1.5397916998041972|2.97860414039131|\n",
      "+------------------+----------------+\n",
      "\n",
      "Column<'OpenPorchSF'>\n",
      "+----------------+\n",
      "|   std_deviation|\n",
      "+----------------+\n",
      "|66.2560276766497|\n",
      "+----------------+\n",
      "\n",
      "+-----------------+-----------------+\n",
      "|         skewness|         kurtosis|\n",
      "+-----------------+-----------------+\n",
      "|2.361911928568967|8.457180405184332|\n",
      "+-----------------+-----------------+\n",
      "\n",
      "Column<'EnclosedPorch'>\n",
      "+-----------------+\n",
      "|    std_deviation|\n",
      "+-----------------+\n",
      "|61.11914860172857|\n",
      "+-----------------+\n",
      "\n",
      "+------------------+------------------+\n",
      "|          skewness|          kurtosis|\n",
      "+------------------+------------------+\n",
      "|3.0866964713766776|10.390971603711375|\n",
      "+------------------+------------------+\n",
      "\n",
      "Column<'3SsnPorch'>\n",
      "+------------------+\n",
      "|     std_deviation|\n",
      "+------------------+\n",
      "|29.317330556781872|\n",
      "+------------------+\n",
      "\n",
      "+------------------+------------------+\n",
      "|          skewness|          kurtosis|\n",
      "+------------------+------------------+\n",
      "|10.293752357165424|123.23517727268931|\n",
      "+------------------+------------------+\n",
      "\n",
      "Column<'ScreenPorch'>\n",
      "+-----------------+\n",
      "|    std_deviation|\n",
      "+-----------------+\n",
      "|55.75741528187416|\n",
      "+-----------------+\n",
      "\n",
      "+-----------------+------------------+\n",
      "|         skewness|          kurtosis|\n",
      "+-----------------+------------------+\n",
      "|4.117977382795487|18.371874098863664|\n",
      "+-----------------+------------------+\n",
      "\n",
      "Column<'PoolArea'>\n",
      "+-----------------+\n",
      "|    std_deviation|\n",
      "+-----------------+\n",
      "|40.17730694453021|\n",
      "+-----------------+\n",
      "\n",
      "+------------------+-----------------+\n",
      "|          skewness|         kurtosis|\n",
      "+------------------+-----------------+\n",
      "|14.813134660429386|222.5005068321315|\n",
      "+------------------+-----------------+\n",
      "\n",
      "Column<'MiscVal'>\n",
      "+-----------------+\n",
      "|    std_deviation|\n",
      "+-----------------+\n",
      "|496.1230244579441|\n",
      "+-----------------+\n",
      "\n",
      "+------------------+-----------------+\n",
      "|          skewness|         kurtosis|\n",
      "+------------------+-----------------+\n",
      "|24.451639617322286|698.6008400387275|\n",
      "+------------------+-----------------+\n",
      "\n",
      "Column<'YearBuilt'>\n",
      "+------------------+\n",
      "|     std_deviation|\n",
      "+------------------+\n",
      "|30.202904042525294|\n",
      "+------------------+\n",
      "\n",
      "+-------------------+-------------------+\n",
      "|           skewness|           kurtosis|\n",
      "+-------------------+-------------------+\n",
      "|-0.6128307242028976|-0.4421548456529525|\n",
      "+-------------------+-------------------+\n",
      "\n",
      "Column<'YearRemodAdd'>\n",
      "+-----------------+\n",
      "|    std_deviation|\n",
      "+-----------------+\n",
      "|20.64540680770938|\n",
      "+-----------------+\n",
      "\n",
      "+-------------------+------------------+\n",
      "|           skewness|          kurtosis|\n",
      "+-------------------+------------------+\n",
      "|-0.5030444967598093|-1.271999140477244|\n",
      "+-------------------+------------------+\n",
      "\n",
      "Column<'YrSold'>\n",
      "+------------------+\n",
      "|     std_deviation|\n",
      "+------------------+\n",
      "|1.3280951205521145|\n",
      "+------------------+\n",
      "\n",
      "+-------------------+-------------------+\n",
      "|           skewness|           kurtosis|\n",
      "+-------------------+-------------------+\n",
      "|0.09616957961804574|-1.1906338560829877|\n",
      "+-------------------+-------------------+\n",
      "\n",
      "Column<'SalePrice'>\n",
      "+-----------------+\n",
      "|    std_deviation|\n",
      "+-----------------+\n",
      "|79442.50288288663|\n",
      "+-----------------+\n",
      "\n",
      "+------------------+-----------------+\n",
      "|          skewness|         kurtosis|\n",
      "+------------------+-----------------+\n",
      "|1.8809407460340333|6.509812011089432|\n",
      "+------------------+-----------------+\n",
      "\n"
     ]
    }
   ],
   "source": [
    "dataframe = data_continuous_2\n",
    "skew_kur_std(dataframe)"
   ]
  },
  {
   "cell_type": "markdown",
   "id": "4834b99f-0bfc-4240-864e-d7592ecb94a8",
   "metadata": {},
   "source": [
    "### CORRELATION WITH THE TARGET"
   ]
  },
  {
   "cell_type": "markdown",
   "id": "54f945e3-e704-4b62-8c01-2bb34ff36869",
   "metadata": {},
   "source": [
    "#### CONTINUOUS VARIABLES CORRELATION CAN BE CHECKED WITH PEARSON CORRELATION"
   ]
  },
  {
   "cell_type": "code",
   "execution_count": 21,
   "id": "8d574fbf-5646-4041-8cec-0586752479a3",
   "metadata": {},
   "outputs": [
    {
     "name": "stdout",
     "output_type": "stream",
     "text": [
      "Correlation between SalePrice and LotArea: 0.2638\n",
      "Correlation between SalePrice and BsmtFinSF1: 0.3864\n",
      "Correlation between SalePrice and BsmtFinSF2: -0.0114\n",
      "Correlation between SalePrice and BsmtUnfSF: 0.2145\n",
      "Correlation between SalePrice and TotalBsmtSF: 0.6136\n",
      "Correlation between SalePrice and 1stFlrSF: 0.6059\n",
      "Correlation between SalePrice and 2ndFlrSF: 0.3193\n",
      "Correlation between SalePrice and LowQualFinSF: -0.0256\n",
      "Correlation between SalePrice and GrLivArea: 0.7086\n"
     ]
    }
   ],
   "source": [
    "def target_correlation(dataframe, target):\n",
    "    # Ensure the target column is not included in the columns to correlate with\n",
    "    columns = [c for c in dataframe.columns if c != target]\n",
    "    for column in columns:\n",
    "        # Drop rows where either the target column or the current column has a null\n",
    "        clean_df = dataframe.dropna(subset=[target, column])\n",
    "        # Calculate the correlation between the target and the current column\n",
    "        correlation = clean_df.stat.corr(target, column)\n",
    "        # Print the correlation coefficient\n",
    "        print(f\"Correlation between {target} and {column}: {correlation:.4f}\")\n",
    "\n",
    "target = 'SalePrice'\n",
    "dataframe = data_continuous_1\n",
    "target_correlation(dataframe, target)"
   ]
  },
  {
   "cell_type": "code",
   "execution_count": 22,
   "id": "eaa38bda-ab3a-42a3-8b0b-d922b8a33344",
   "metadata": {},
   "outputs": [
    {
     "name": "stdout",
     "output_type": "stream",
     "text": [
      "Correlation between SalePrice and GarageArea: 0.6234\n",
      "Correlation between SalePrice and WoodDeckSF: 0.3244\n",
      "Correlation between SalePrice and OpenPorchSF: 0.3159\n",
      "Correlation between SalePrice and EnclosedPorch: -0.1286\n",
      "Correlation between SalePrice and 3SsnPorch: 0.0446\n",
      "Correlation between SalePrice and ScreenPorch: 0.1114\n",
      "Correlation between SalePrice and PoolArea: 0.0924\n",
      "Correlation between SalePrice and MiscVal: -0.0212\n",
      "Correlation between SalePrice and YearBuilt: 0.5229\n",
      "Correlation between SalePrice and YearRemodAdd: 0.5071\n",
      "Correlation between SalePrice and YrSold: -0.0289\n"
     ]
    }
   ],
   "source": [
    "target = 'SalePrice'\n",
    "dataframe = data_continuous_2\n",
    "target_correlation(dataframe, target)"
   ]
  },
  {
   "cell_type": "markdown",
   "id": "7cd6c6f5-175a-48a9-a69c-1b1ae2466a44",
   "metadata": {},
   "source": [
    "#### CATEGORICAL VARIABLES CORRELATION WITH CONTINUOUS TARGET CAN BE CHECKED WITH ETA SQUARED CORRELATION RATIO"
   ]
  },
  {
   "cell_type": "code",
   "execution_count": 24,
   "id": "34133dd6-2c3e-43c4-a440-c948028eab67",
   "metadata": {},
   "outputs": [
    {
     "name": "stdout",
     "output_type": "stream",
     "text": [
      "{'ExterQual': 0.9973432381401025, 'KitchenQual': 0.9966009376363232, 'FireplaceQu': 0.9942284732829499, 'HeatingQC': 0.9922486962656984, 'GarageCond': 0.9391035030808109, 'GarageQual': 0.934955234331486, 'CentralAir': 0.9229413975442143, 'ExterCond': 0.7261574159256279, 'Functional': 0.6194598210571989, 'PoolQC': 0.09573462178324695, 'Utilities': 0.0004094336870569913}\n"
     ]
    }
   ],
   "source": [
    "from pyspark.sql.functions import col, mean, count, sum as sum_\n",
    "from pyspark.ml.feature import StringIndexer, OneHotEncoder\n",
    "from pyspark.ml import Pipeline\n",
    "\n",
    "def eta_squared(df, cat_cols, cont_col):\n",
    "    results = {}  # Dictionary to store the results for each categorical column\n",
    "\n",
    "    # Step 1: Calculate the overall mean of the continuous variable\n",
    "    overall_mean = df.select(mean(col(cont_col))).collect()[0][0]\n",
    "\n",
    "    for cat_col in cat_cols:\n",
    "        # Step 2: Calculate means and counts for each category\n",
    "        means = df.groupBy(cat_col).agg(\n",
    "            mean(col(cont_col)).alias('group_mean'),\n",
    "            count(col(cont_col)).alias('n')\n",
    "        )\n",
    "        enriched_df = df.join(means, cat_col)\n",
    "\n",
    "        # Step 3: Calculate the within-group sum of squares\n",
    "        enriched_df = enriched_df.withColumn('within_ss', (col(cont_col) - col('group_mean'))**2)\n",
    "\n",
    "        # Step 4: Aggregate to calculate Between Groups Sum of Squares (SSB) and Total Sum of Squares (SST)\n",
    "        aggregates = enriched_df.groupBy(cat_col).agg(\n",
    "            sum_('within_ss').alias('ssw'),\n",
    "            sum_((col('group_mean') - overall_mean)**2 * col('n')).alias('ssb')\n",
    "        ).collect()\n",
    "\n",
    "        ssw = sum(row['ssw'] for row in aggregates)\n",
    "        ssb = sum(row['ssb'] for row in aggregates)\n",
    "        sst = ssw + ssb  # Total Sum of Squares\n",
    "\n",
    "        # Step 5: Calculate Eta Squared\n",
    "        eta_sq = ssb / sst if sst != 0 else 0  # Protect against division by zero\n",
    "        results[cat_col] = eta_sq  # Store result for current categorical column\n",
    "\n",
    "    # Sort results by Eta Squared values in descending order\n",
    "    sorted_results = {k: v for k, v in sorted(results.items(), key=lambda item: item[1], reverse=True)}\n",
    "    return sorted_results\n",
    "    \n",
    "cat_cols = [\n",
    "                'HeatingQC',\n",
    "                'CentralAir',\n",
    "                'ExterQual',\n",
    "                'ExterCond',\n",
    "                'KitchenQual',\n",
    "                'Functional',\n",
    "                'FireplaceQu',\n",
    "                'GarageQual',\n",
    "                'GarageCond',\n",
    "                'PoolQC',\n",
    "                'Utilities'\n",
    "]\n",
    "eta_squared_values = eta_squared(data, cat_cols, 'SalePrice')\n",
    "print(eta_squared_values)"
   ]
  },
  {
   "cell_type": "code",
   "execution_count": 25,
   "id": "0e524a8d-c002-4815-8bc8-d19cfdeac1af",
   "metadata": {},
   "outputs": [
    {
     "name": "stdout",
     "output_type": "stream",
     "text": [
      "{'BsmtQual': 0.9958631319512813, 'Foundation': 0.9946143834315648, 'GarageFinish': 0.9942357582015003, 'GarageType': 0.9911715712143412, 'MasVnrArea': 0.9898458713490277, 'MasVnrType': 0.9892167169893535, 'Neighborhood': 0.9882623335064266, 'BsmtFinType1': 0.9882442883539129, 'Exterior1st': 0.9810406637179425, 'Exterior2nd': 0.9806006038988756, 'BsmtExposure': 0.9786745842051955, 'LotShape': 0.9780021405816084, 'MSZoning': 0.9717620277767468, 'SaleType': 0.9659185294246011, 'RoofStyle': 0.964238650386995, 'HouseStyle': 0.9631112148241777, 'SaleCondition': 0.9597821112655524, 'GarageYrBlt': 0.9580591116156948, 'LotFrontage': 0.9374833776673214, 'Electrical': 0.9176541806456222, 'PavedDrive': 0.9134258648173895, 'Fence': 0.9124310654572125, 'BldgType': 0.8420182028801136, 'Condition1': 0.7999766009006217, 'LotConfig': 0.7900017663910117, 'BsmtCond': 0.7857497232241747, 'BsmtFinType2': 0.7831911860381698, 'Alley': 0.6985361219516623, 'LandContour': 0.6040534946623559, 'MiscFeature': 0.3376618204232419, 'RoofMatl': 0.3225017223929651, 'Heating': 0.2625345888658909, 'LandSlope': 0.24162150922215245, 'Condition2': 0.03937417287299302, 'Street': 0.019759572688313982}\n"
     ]
    }
   ],
   "source": [
    "from pyspark.sql.functions import col, mean, count, sum as sum_\n",
    "from pyspark.ml.feature import StringIndexer, OneHotEncoder\n",
    "from pyspark.ml import Pipeline\n",
    "\n",
    "def eta_squared_w_dummies(df, cat_cols, cont_col):\n",
    "    results = {}  # Dictionary to store the results for each categorical column\n",
    "\n",
    "    # Create a list of indexers and encoders for the categorical columns\n",
    "    indexers = [StringIndexer(inputCol=c, outputCol=f\"{c}_indexed\") for c in cat_cols]\n",
    "    encoders = [OneHotEncoder(inputCols=[f\"{c}_indexed\"], outputCols=[f\"{c}_encoded\"]) for c in cat_cols]\n",
    "\n",
    "    # Create a Pipeline to process all encodings\n",
    "    pipeline = Pipeline(stages=indexers + encoders)\n",
    "    model = pipeline.fit(df)\n",
    "    df = model.transform(df)\n",
    "\n",
    "    # Calculate the overall mean of the continuous variable\n",
    "    overall_mean = df.select(mean(col(cont_col))).collect()[0][0]\n",
    "\n",
    "    for cat_col in cat_cols:\n",
    "        encoded_col = f\"{cat_col}_encoded\"\n",
    "\n",
    "        # Step 2: Calculate means and counts for each category\n",
    "        means = df.groupBy(encoded_col).agg(\n",
    "            mean(col(cont_col)).alias('group_mean'),\n",
    "            count(col(cont_col)).alias('n')\n",
    "        )\n",
    "        enriched_df = df.join(means, encoded_col)\n",
    "\n",
    "        # Step 3: Calculate the within-group sum of squares\n",
    "        enriched_df = enriched_df.withColumn('within_ss', (col(cont_col) - col('group_mean'))**2)\n",
    "\n",
    "        # Step 4: Aggregate to calculate Between Groups Sum of Squares (SSB) and Total Sum of Squares (SST)\n",
    "        aggregates = enriched_df.groupBy(encoded_col).agg(\n",
    "            sum_('within_ss').alias('ssw'),\n",
    "            sum_((col('group_mean') - overall_mean)**2 * col('n')).alias('ssb')\n",
    "        ).collect()\n",
    "\n",
    "        ssw = sum(row['ssw'] for row in aggregates)\n",
    "        ssb = sum(row['ssb'] for row in aggregates)\n",
    "        sst = ssw + ssb  # Total Sum of Squares\n",
    "\n",
    "        # Step 5: Calculate Eta Squared\n",
    "        eta_sq = ssb / sst if sst != 0 else 0  # Protect against division by zero\n",
    "        results[cat_col] = eta_sq  # Store result for current categorical column\n",
    "        \n",
    "    # Sort results by Eta Squared values in descending order\n",
    "    sorted_results = {k: v for k, v in sorted(results.items(), key=lambda item: item[1], reverse=True)}\n",
    "\n",
    "    return sorted_results\n",
    "\n",
    "\n",
    "nominal_columns = ['LotFrontage','MasVnrArea',\n",
    "    'MSZoning', 'Street', 'Alley', 'LotShape', 'LandContour', 'LotConfig', 'LandSlope',\n",
    "    'Neighborhood', 'Condition1', 'Condition2', 'BldgType', \n",
    "    'HouseStyle', 'RoofStyle',\n",
    "    'RoofMatl', 'Exterior1st', 'Exterior2nd', 'MasVnrType', 'Foundation', 'BsmtQual',\n",
    "    'BsmtCond', 'BsmtExposure', 'BsmtFinType1', 'BsmtFinType2',\n",
    "   'Heating', 'Electrical','GarageYrBlt',\n",
    "    'GarageType', 'GarageFinish', 'PavedDrive', 'Fence', 'MiscFeature', 'SaleType',\n",
    "    'SaleCondition'\n",
    "]\n",
    "eta_squared_values = eta_squared_w_dummies(data, nominal_columns, 'SalePrice')\n",
    "print(eta_squared_values)\n"
   ]
  },
  {
   "cell_type": "markdown",
   "id": "00bc8391-f4b4-4676-83c9-8797d2222358",
   "metadata": {},
   "source": [
    "### WITH ABOVE INFORMATION GATHERED FROM THE DATA, A SMALLER SUBSET OF DATA CAN BE TAKEN TO A LOCAL MACHINE FOR CLOSER EXAMINATION"
   ]
  },
  {
   "cell_type": "markdown",
   "id": "a91de0e6-fd86-4e2e-bd92-2bd04a9eede8",
   "metadata": {},
   "source": [
    "#### ChatGPT WAS USED TO GENERATE SOME OF THE FUNCTIONS USED HERE"
   ]
  },
  {
   "cell_type": "code",
   "execution_count": 27,
   "id": "779925f2-a335-466b-a211-c3a5d516e32a",
   "metadata": {},
   "outputs": [],
   "source": [
    "spark.stop()"
   ]
  },
  {
   "cell_type": "code",
   "execution_count": null,
   "id": "b4c65357-ea88-4713-b300-4d1983bfcabd",
   "metadata": {},
   "outputs": [],
   "source": []
  }
 ],
 "metadata": {
  "kernelspec": {
   "display_name": "Python 3 (ipykernel)",
   "language": "python",
   "name": "python3"
  },
  "language_info": {
   "codemirror_mode": {
    "name": "ipython",
    "version": 3
   },
   "file_extension": ".py",
   "mimetype": "text/x-python",
   "name": "python",
   "nbconvert_exporter": "python",
   "pygments_lexer": "ipython3",
   "version": "3.11.6"
  }
 },
 "nbformat": 4,
 "nbformat_minor": 5
}
