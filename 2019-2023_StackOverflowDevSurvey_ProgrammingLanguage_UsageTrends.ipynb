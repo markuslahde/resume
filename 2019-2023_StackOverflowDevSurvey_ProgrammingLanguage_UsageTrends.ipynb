{
 "cells": [
  {
   "cell_type": "markdown",
   "id": "27030242-e2a3-430b-99e7-224529759f49",
   "metadata": {},
   "source": [
    "\n",
    "# Programming language professional usage trends 2019-2023 REPORT\n",
    "### (Based on Stack Overflow Annual Developer Surveys Data)"
   ]
  },
  {
   "cell_type": "markdown",
   "id": "bef98ff4-0934-40ae-b8ae-6a49b28962b1",
   "metadata": {},
   "source": [
    "Markus Lähde 2024.01.25"
   ]
  },
  {
   "cell_type": "markdown",
   "id": "2855505c-74b2-4edf-82ce-e18d587b236c",
   "metadata": {},
   "source": [
    "# 1. SOURCE"
   ]
  },
  {
   "cell_type": "markdown",
   "id": "f5527fac-7a10-4255-8962-88f5963c93f2",
   "metadata": {},
   "source": [
    "#### Source:\n",
    "\n",
    "https://insights.stackoverflow.com/survey\n",
    "\n",
    "##### Quote from 2023 survey introduction:\n",
    "\"In May 2023 over 90,000 developers responded to our annual survey about how they learn and level up, which tools they're using, and which ones they want.\""
   ]
  },
  {
   "cell_type": "markdown",
   "id": "c40d6eb0-cfc6-4bc8-88c6-5753bdf3c151",
   "metadata": {},
   "source": [
    "#### Dimensions of original survey datasets (rows, columns)"
   ]
  },
  {
   "cell_type": "markdown",
   "id": "d1642f63-0060-43df-89f3-c5c1e6b5cb88",
   "metadata": {},
   "source": [
    "##### 2019 (88883, 85), 2020 (64461, 61), 2021 (83439, 48), 2022 (73268, 79), 2023 (89184, 84)"
   ]
  },
  {
   "cell_type": "markdown",
   "id": "78860006-65bf-49dd-b779-060760cf46da",
   "metadata": {},
   "source": [
    "#### -> 399235 rows in total"
   ]
  },
  {
   "cell_type": "markdown",
   "id": "2ac7826b-b50a-438d-bdee-9d6a17c0f14b",
   "metadata": {},
   "source": [
    "#### COMBINED DATASET USED FOR ANALYSIS"
   ]
  },
  {
   "cell_type": "markdown",
   "id": "61166977-9763-4601-a516-28b6f873eb28",
   "metadata": {},
   "source": [
    "##### Rows: 724763"
   ]
  },
  {
   "cell_type": "markdown",
   "id": "98a32636-de7e-4f80-b2ab-a2049d9938fb",
   "metadata": {},
   "source": [
    "### 1.1 SCOPE"
   ]
  },
  {
   "cell_type": "markdown",
   "id": "86f0890d-4a87-4471-b706-428a85f728ae",
   "metadata": {},
   "source": [
    "\n",
    "Scope of this report was to further investigate which programming languages have been in actual use by professional software developers in years 2019-2023 with emphasis on European market.\n",
    "\n",
    "#### METHOD\n",
    "##### In order to separate said features from data, the following filtering was done to all datasets.\n",
    "\n",
    "Mainbranch feature was limited to == 'I am a developer by profession'\n",
    "\n",
    "YearsCodePro feature was limited with removing following: nan, 'Less than 1 year', 'More than 50 years'\n",
    "\n",
    "OrgSize feature was limited with removing following: nan, 'Just me - I am a freelancer, sole proprietor, etc.', 'I don’t know'\n",
    "\n",
    "##### Other features that were kept:\n",
    "\n",
    "Country column was transformed to column Continent by parsing country names into corresponding continents.\n",
    "\n",
    "LanguageWorkedWith was parsed to contain information about these languages: ['Java',\n",
    " 'JavaScript',\n",
    " 'C',\n",
    " 'Python',\n",
    " 'C++',\n",
    " 'PHP',\n",
    " 'Perl',\n",
    " 'MATLAB',\n",
    " 'Ruby',\n",
    " 'C#',\n",
    " 'Fortran',\n",
    " 'R',\n",
    " 'Go',\n",
    " 'Scala',\n",
    " 'Swift',\n",
    " 'Ada',\n",
    " 'Rust',\n",
    " 'Kotlin',\n",
    " 'PowerShell',\n",
    " 'Haskell',\n",
    " 'TypeScript',\n",
    " 'SAS',\n",
    " 'Lisp',\n",
    " 'Lua',\n",
    " 'Julia',\n",
    " 'Prolog',\n",
    " 'Objective-C',\n",
    " 'Clojure',\n",
    " 'Erlang',\n",
    " 'Elixir',\n",
    " 'Dart',\n",
    " 'VBA',\n",
    " 'Delphi',\n",
    " 'F#',\n",
    " 'OCaml']\n",
    "\n",
    "##### Language choices:\n",
    "\n",
    "Programming language dataset from kaggle ( https://www.kaggle.com/datasets/sujaykapadnis/programming-language-database ) was downloaded and filtered to contain 75 top ranking language results (with language typ: 'pl'). These languages were used to filter the Stack Overflow data. Language list was truncated by removing languages with 0 hits on Stack Overflow survey results.\n",
    "\n",
    "##### -> ANALYSIS DOESN'T CONTAIN USE OF SQL OR HTML/CSS !"
   ]
  },
  {
   "cell_type": "markdown",
   "id": "f75a63a7-6f3b-4a00-87e1-4e6a34368642",
   "metadata": {},
   "source": [
    "### 1.2 2023 DATASET: CLOSER LOOK"
   ]
  },
  {
   "cell_type": "markdown",
   "id": "f90750cb-60e5-4b4a-94e1-7fd16a416dfd",
   "metadata": {},
   "source": [
    "### Continent Distribution was heavily skewed towards Europe, North America and Asia. Distribution was similar in all years analyzed."
   ]
  },
  {
   "cell_type": "markdown",
   "id": "e8663b55-5306-43c6-be40-a84bcc0db791",
   "metadata": {},
   "source": [
    "<img src=\"Continent Distribution in 2023 Survey.png\">"
   ]
  },
  {
   "cell_type": "markdown",
   "id": "6c8dfd32-507b-4ceb-8988-4ae9572d58e1",
   "metadata": {},
   "source": [
    "### Organization sizes were concatenated into groups of roughly same size.\n",
    "##### Organization sizes are referenced in this report as:\n",
    "##### Mega Organization = over 5000 employees\n",
    "##### Large Organization = 500 - 4999 employees\n",
    "##### Medium Organization = 100 - 499 employees\n",
    "##### Small Organization = 20 - 99 employees\n",
    "##### Tiny Organization = 2 - 19 employees"
   ]
  },
  {
   "cell_type": "markdown",
   "id": "5d5c1b39-89ac-4619-8fbd-93416ded0afe",
   "metadata": {},
   "source": [
    "<img src=\"NewOrgSize Distribution in 2023 Survey.png\">"
   ]
  },
  {
   "cell_type": "markdown",
   "id": "23050ec5-29b7-4b21-8a52-02feaac882a2",
   "metadata": {},
   "source": [
    "### Professional coding experience years were concatenated into groups of roughly same size.\n",
    "##### Professional coding experience years are referenced in this report as:\n",
    "##### Guru = 21-50 years of professional coding experience\n",
    "##### Principal = 11-20 years of professional coding experience\n",
    "##### Senior = 6-10 years of professional coding experience\n",
    "##### Junior = 1-5 years of professional coding experience"
   ]
  },
  {
   "cell_type": "markdown",
   "id": "ccc9c849-4a76-4a9b-860d-2d0813f0948d",
   "metadata": {},
   "source": [
    "<img src=\"YearsCodePro_ENCODED Distribution in 2023 Survey.png\">"
   ]
  },
  {
   "cell_type": "markdown",
   "id": "e7d1c7e9-790f-42ff-8c1a-778b699860ed",
   "metadata": {},
   "source": [
    "# 2. \"TOP 10\" LANGUAGES AND GLOBAL TRENDS"
   ]
  },
  {
   "cell_type": "markdown",
   "id": "70ea4ed7-7977-407d-b0a8-3713d7e2d404",
   "metadata": {},
   "source": [
    "#### Trends for most popular programming languages are mmostly the same regardless of any dimensions analyzed in this study."
   ]
  },
  {
   "cell_type": "markdown",
   "id": "e1c011aa-826a-498c-97b6-9e0c741c5e9d",
   "metadata": {},
   "source": [
    "### Global trends in top languages are rise of use of TypeScript, Go and Python (all organizations / experience levels)"
   ]
  },
  {
   "cell_type": "markdown",
   "id": "0f40df63-4d0d-4e60-b928-ba16ced9b74b",
   "metadata": {},
   "source": [
    "<img src=\"Languages_1_AllCont_AllOrg_AllExpLevels.png\">"
   ]
  },
  {
   "cell_type": "markdown",
   "id": "1e23264c-30ab-4d35-aa57-1d04dc6bd6ee",
   "metadata": {},
   "source": [
    "<img src=\"Languages_2_AllCont_AllOrg_AllExpLevels.png\">"
   ]
  },
  {
   "cell_type": "markdown",
   "id": "f5f6e722-92dd-43c2-99fc-60bb66ae463f",
   "metadata": {},
   "source": [
    "# 3. GLOBAL TRENDS OUTSIDE \"TOP 10\""
   ]
  },
  {
   "cell_type": "markdown",
   "id": "54c0c7a8-52e9-4dd9-b699-5e1badcdd8d7",
   "metadata": {},
   "source": [
    "### Rise of use of Rust and Kotlin (all organizations / experience levels)"
   ]
  },
  {
   "cell_type": "markdown",
   "id": "05fbd9e7-9721-49af-8718-810625b7127f",
   "metadata": {},
   "source": [
    "<img src=\"Languages_3_AllCont_AllOrg_AllExpLevels.png\">"
   ]
  },
  {
   "cell_type": "markdown",
   "id": "75e73c19-d700-4cdd-8154-3581fb782108",
   "metadata": {},
   "source": [
    "### Decline of use of Objective-C  (all organizations / experience levels)"
   ]
  },
  {
   "cell_type": "markdown",
   "id": "0ac29115-2681-4892-ba69-d0ac823d2498",
   "metadata": {},
   "source": [
    "<img src=\"Languages_5_AllCont_AllOrg_AllExpLevels.png\">"
   ]
  },
  {
   "cell_type": "markdown",
   "id": "3dd85406-0378-4f59-929d-f4bb64f12777",
   "metadata": {},
   "source": [
    "### Rise of use of Dart, decline of use of VBA (all organizations / experience levels)"
   ]
  },
  {
   "cell_type": "markdown",
   "id": "1840aab0-9c79-4848-8058-91acb8560894",
   "metadata": {},
   "source": [
    "<img src=\"Languages_6_AllCont_AllOrg_AllExpLevels.png\">"
   ]
  },
  {
   "cell_type": "markdown",
   "id": "6b9c73dd-f572-4d96-bee8-9c8bb31459c6",
   "metadata": {},
   "source": [
    "# 4. Europe VS North America"
   ]
  },
  {
   "cell_type": "markdown",
   "id": "40557358-361e-48b8-8a7f-aa57c8a54f93",
   "metadata": {},
   "source": [
    "### Adoption of languages is faster in Europe (in all organizations & all experience levels comparison)"
   ]
  },
  {
   "cell_type": "markdown",
   "id": "8145c40c-cb37-4333-9d7c-12c95a34cfb8",
   "metadata": {},
   "source": [
    "<img src=\"TypeScript_Europe_vs_NAmerica_AllOrg_AllExpLevels.png\">"
   ]
  },
  {
   "cell_type": "markdown",
   "id": "ed341274-9fc5-4c44-9056-c2c90aa7954f",
   "metadata": {},
   "source": [
    "<img src=\"LanguagesCompare1_Europe_vs_NAmerica_AllOrg_AllExpLevels.png\">"
   ]
  },
  {
   "cell_type": "markdown",
   "id": "dc824fc8-e5af-4de8-8a63-94a0de07669b",
   "metadata": {},
   "source": [
    "<img src=\"LanguagesCompare2_Europe_vs_NAmerica_AllOrg_AllExpLevels.png\">"
   ]
  },
  {
   "cell_type": "markdown",
   "id": "48ad33a2-b0e4-4135-8ddf-7538c3eb03f1",
   "metadata": {},
   "source": [
    "# 5. DIFFERENCES IN LANGUAGE USAGE IN DIFFERENT ORGANIZATION SIZES"
   ]
  },
  {
   "cell_type": "markdown",
   "id": "b4603e9c-fd06-432c-a1bf-50665271ca9d",
   "metadata": {},
   "source": [
    "#### JavaScript / TypeScript usage Tiny vs Mega organizations (Europe, all experience levels combined)"
   ]
  },
  {
   "cell_type": "markdown",
   "id": "3eb3bcd0-fbbc-401c-a33e-299b378b3f5c",
   "metadata": {},
   "source": [
    "<img src=\"JavaScript_TypeScript_Europe_Tiny_vs_Mega_AllExpLevels.png\">"
   ]
  },
  {
   "cell_type": "markdown",
   "id": "5deb8cd1-101e-4932-b116-dee6324fdacf",
   "metadata": {},
   "source": [
    "#### C# usage Tiny vs Mega organizations (Europe, all experience levels combined)"
   ]
  },
  {
   "cell_type": "markdown",
   "id": "074106f5-b452-42c2-93fb-650b488df67c",
   "metadata": {},
   "source": [
    "<img src=\"C#_Europe_Tiny_vs_Mega_AllExpLevels.png\">"
   ]
  },
  {
   "cell_type": "markdown",
   "id": "95e74f72-b8ae-47e6-aba2-2ca79f4a6b73",
   "metadata": {},
   "source": [
    "#### Elixir usage Tiny vs Mega organizations (Europe, all experience levels combined)"
   ]
  },
  {
   "cell_type": "markdown",
   "id": "56aa564e-6839-4e7e-a919-ec0acf3a1547",
   "metadata": {},
   "source": [
    "<img src=\"Elixir_Europe_Tiny_vs_Mega_AllExpLevels.png\">"
   ]
  },
  {
   "cell_type": "markdown",
   "id": "a9bdf345-73b6-4f5f-af28-5de0b1684b26",
   "metadata": {},
   "source": [
    "#### Dart usage Tiny vs Mega organizations (Europe, all experience levels combined)"
   ]
  },
  {
   "cell_type": "markdown",
   "id": "958f75a5-8112-4012-ac44-95eb92e802c6",
   "metadata": {},
   "source": [
    "<img src=\"Dart_Europe_Tiny_vs_Mega_AllExpLevels.png\">"
   ]
  },
  {
   "cell_type": "markdown",
   "id": "b6bf6f2c-ed6e-4814-a04e-99dd9d752f5e",
   "metadata": {},
   "source": [
    "# 6. DIFFERENCES IN LANGUAGE USAGE IN DIFFERENT EXPERIENCE LEVELS"
   ]
  },
  {
   "cell_type": "markdown",
   "id": "448e8280-3bd4-437d-b097-689be76a1139",
   "metadata": {},
   "source": [
    "## \"LEGACY CODEBASES\""
   ]
  },
  {
   "cell_type": "markdown",
   "id": "a6b973af-6d5e-4a68-b9d4-8b87eb400f70",
   "metadata": {},
   "source": [
    "#### Java usage Junior vs Guru experience level (Europe, all organization sizes combined)"
   ]
  },
  {
   "cell_type": "markdown",
   "id": "cff12cef-db2a-4a86-8e11-7b5f0ae1c344",
   "metadata": {},
   "source": [
    "<img src=\"Java_Europe_AllOrg_Jr_vs_Guru.png\">"
   ]
  },
  {
   "cell_type": "markdown",
   "id": "e41bc125-9c90-48ce-b3d2-3c4b1b4fe7b9",
   "metadata": {},
   "source": [
    "#### PHP usage Junior vs Guru experience level (Europe, all organization sizes combined)"
   ]
  },
  {
   "cell_type": "markdown",
   "id": "fcb895fb-880f-4018-95c7-db24393fbe3b",
   "metadata": {},
   "source": [
    "<img src=\"PHP_Europe_AllOrg_Jr_vs_Guru.png\">"
   ]
  },
  {
   "cell_type": "markdown",
   "id": "8e2ef37f-ad41-4c17-a259-75e1bca3c9b2",
   "metadata": {},
   "source": [
    "#### Scala and R usage Junior vs Guru experience level (Europe, all organization sizes combined)"
   ]
  },
  {
   "cell_type": "markdown",
   "id": "89aaa19b-10a9-469d-b862-777dc9117a49",
   "metadata": {},
   "source": [
    "<img src=\"Scala_R_Europe_AllOrg_Jr_vs_Guru.png\">"
   ]
  },
  {
   "cell_type": "markdown",
   "id": "2dbdb319-0bab-4d2c-b80b-90c765324aeb",
   "metadata": {},
   "source": [
    "#### Objective-C usage Junior vs Guru experience level (Europe, all organization sizes combined)"
   ]
  },
  {
   "cell_type": "markdown",
   "id": "2d9575da-6115-46cd-afe7-89a8dedda5da",
   "metadata": {},
   "source": [
    "<img src=\"Objective-C_Europe_AllOrg_Jr_vs_Guru.png\">"
   ]
  },
  {
   "cell_type": "markdown",
   "id": "42c157e2-9fa0-4c6b-9377-56299522e1db",
   "metadata": {},
   "source": [
    "#### VBA usage Junior vs Guru experience level (Europe, all organization sizes combined)"
   ]
  },
  {
   "cell_type": "markdown",
   "id": "ba571350-f8fa-4b9a-87b3-e169fe7844cb",
   "metadata": {},
   "source": [
    "<img src=\"VBA_Europe_AllOrg_Jr_vs_Guru.png\">"
   ]
  },
  {
   "cell_type": "markdown",
   "id": "48d2885b-7ffa-4a03-a073-1f5eed307646",
   "metadata": {},
   "source": [
    "## TRENDING AMONG JUNIORS"
   ]
  },
  {
   "cell_type": "markdown",
   "id": "98232b0c-b1a7-4c7c-87a5-0a1aad435cd1",
   "metadata": {},
   "source": [
    "#### Julia usage Junior vs Guru experience level (Europe, all organization sizes combined)"
   ]
  },
  {
   "cell_type": "markdown",
   "id": "fc0e54bb-28a4-4e80-929f-be47d7616ef1",
   "metadata": {},
   "source": [
    "<img src=\"Julia_Europe_AllOrg_Jr_vs_Guru.png\">"
   ]
  },
  {
   "cell_type": "markdown",
   "id": "999f9bac-52d8-4b51-8925-b87e7cc076fb",
   "metadata": {},
   "source": [
    "#### JDart usage Junior vs Guru experience level (Europe, all organization sizes combined)"
   ]
  },
  {
   "cell_type": "markdown",
   "id": "3e726a39-5f14-4b88-a2ab-8e62a0a48f9d",
   "metadata": {},
   "source": [
    "<img src=\"Dart_Europe_AllOrg_Jr_vs_Guru.png\">"
   ]
  },
  {
   "cell_type": "markdown",
   "id": "19f178c0-b66a-411f-ace6-abc4bbe9026f",
   "metadata": {},
   "source": [
    "# 7. LANGUAGE STACKS (2023)"
   ]
  },
  {
   "cell_type": "markdown",
   "id": "a006886d-cf9c-49a0-9d6b-058323e2d4ee",
   "metadata": {},
   "source": [
    "#### JavaScript(+TypeScript) was the most used second language for every single programming language"
   ]
  },
  {
   "cell_type": "markdown",
   "id": "21672321-2d26-4dec-8e12-9171e52d69aa",
   "metadata": {},
   "source": [
    "#### JavaScript/TypeScript can be used for many things, but it may reveal tendency to use language primarily for web applications"
   ]
  },
  {
   "cell_type": "markdown",
   "id": "1bd84519-bd5d-4501-95eb-3f68ae0f6aef",
   "metadata": {},
   "source": [
    "### 7.1 LANGUAGES WITH STRONGEST TIES TO JS/TS"
   ]
  },
  {
   "cell_type": "markdown",
   "id": "7ed4cc33-3304-4e60-909f-1d67f4b37006",
   "metadata": {},
   "source": [
    "#### Java"
   ]
  },
  {
   "cell_type": "markdown",
   "id": "40cea54f-4823-4074-a1be-43575bae552a",
   "metadata": {},
   "source": [
    "<img src=\"PercentageJava2023.png\">"
   ]
  },
  {
   "cell_type": "markdown",
   "id": "0d84bc1a-4b02-4232-a91f-642d14103a7c",
   "metadata": {},
   "source": [
    "#### C#"
   ]
  },
  {
   "cell_type": "markdown",
   "id": "2235e306-129a-48fc-a25f-0d573aa31232",
   "metadata": {},
   "source": [
    "<img src=\"PercentageC#2023.png\">"
   ]
  },
  {
   "cell_type": "markdown",
   "id": "9ebb1cf3-9ebc-4744-b889-7f4ba853b5bc",
   "metadata": {},
   "source": [
    "#### Python"
   ]
  },
  {
   "cell_type": "markdown",
   "id": "0d3c6c80-6a99-42a5-b996-903344691bfc",
   "metadata": {},
   "source": [
    "<img src=\"PercentagePython2023.png\">"
   ]
  },
  {
   "cell_type": "markdown",
   "id": "d40c8154-45da-455d-94de-60d6737b6e7b",
   "metadata": {},
   "source": [
    "#### Go"
   ]
  },
  {
   "cell_type": "markdown",
   "id": "936aef35-9b7a-4d0a-b5a0-13620651ad4b",
   "metadata": {},
   "source": [
    "<img src=\"PercentageGo2023.png\">"
   ]
  },
  {
   "cell_type": "markdown",
   "id": "372c81da-92c8-4e20-ac3b-edc2bafd4d42",
   "metadata": {},
   "source": [
    "#### PHP"
   ]
  },
  {
   "cell_type": "markdown",
   "id": "29eb372f-63f5-4e1e-8356-5c03e204197b",
   "metadata": {},
   "source": [
    "<img src=\"PercentagePHP2023.png\">"
   ]
  },
  {
   "cell_type": "markdown",
   "id": "1e15ef3a-16ac-470d-83d0-0928457d7f27",
   "metadata": {},
   "source": [
    "#### Kotlin"
   ]
  },
  {
   "cell_type": "markdown",
   "id": "0701bcf4-0f23-4c28-b640-d8bf2b36c3b9",
   "metadata": {},
   "source": [
    "<img src=\"PercentageKotlin2023.png\">"
   ]
  },
  {
   "cell_type": "markdown",
   "id": "42c3db7a-ad8f-413f-b324-1b27365561d0",
   "metadata": {},
   "source": [
    "### 7.2 LANGUAGES WITH WEAKER TIES TO JS/TS"
   ]
  },
  {
   "cell_type": "markdown",
   "id": "c3a7fbcc-b055-408e-ab4d-d681329ff57f",
   "metadata": {},
   "source": [
    "#### C"
   ]
  },
  {
   "cell_type": "markdown",
   "id": "6437944e-9176-469f-92ce-80888a1900d5",
   "metadata": {},
   "source": [
    "<img src=\"PercentageC2023.png\">"
   ]
  },
  {
   "cell_type": "markdown",
   "id": "df5bad03-c6f1-4bdb-99b7-f3d3a575a442",
   "metadata": {},
   "source": [
    "#### C++"
   ]
  },
  {
   "cell_type": "markdown",
   "id": "6b85dec3-5b73-42be-a69d-a507783ca714",
   "metadata": {},
   "source": [
    "<img src=\"PercentageC++2023.png\">"
   ]
  },
  {
   "cell_type": "markdown",
   "id": "5e0821ce-98a4-497b-8ca7-982303dcc60a",
   "metadata": {},
   "source": [
    "#### R"
   ]
  },
  {
   "cell_type": "markdown",
   "id": "79c8c307-abf3-4a2e-bbaf-2a9c0155165d",
   "metadata": {},
   "source": [
    "<img src=\"PercentageR2023.png\">"
   ]
  },
  {
   "cell_type": "markdown",
   "id": "7b054718-8dff-4428-a458-29936c8eb5ef",
   "metadata": {},
   "source": [
    "#### Rust"
   ]
  },
  {
   "cell_type": "markdown",
   "id": "1fd5ce5d-6f57-4e6f-a98d-c580a369989a",
   "metadata": {},
   "source": [
    "<img src=\"PercentageRust2023.png\">"
   ]
  },
  {
   "cell_type": "markdown",
   "id": "0b89eaa5-e1a5-4b6c-9cc6-f5c06311d6d3",
   "metadata": {},
   "source": [
    "#### Scala"
   ]
  },
  {
   "cell_type": "markdown",
   "id": "c641625a-4dc2-4d22-a226-fbadc80bdec1",
   "metadata": {},
   "source": [
    "<img src=\"PercentageScala2023.png\">"
   ]
  },
  {
   "cell_type": "markdown",
   "id": "47b80e89-9c6d-4bbd-a1a0-91742a392722",
   "metadata": {},
   "source": [
    "# THANK YOU !"
   ]
  },
  {
   "cell_type": "markdown",
   "id": "8831bcc2-d964-4654-b55b-8587f5f14f0b",
   "metadata": {},
   "source": [
    "#### TOOLS USED IN CREATING THIS ANALYSIS AND REPORT:\n",
    "- Python pandas and numpy for data wrangling and analysis\n",
    "- Matplotlib for plotting the graphs\n",
    "- Jupyter Notebook\n",
    "- ChatGPT as assistant when creating code for data transformations and visualizations"
   ]
  }
 ],
 "metadata": {
  "kernelspec": {
   "display_name": "Python 3 (ipykernel)",
   "language": "python",
   "name": "python3"
  },
  "language_info": {
   "codemirror_mode": {
    "name": "ipython",
    "version": 3
   },
   "file_extension": ".py",
   "mimetype": "text/x-python",
   "name": "python",
   "nbconvert_exporter": "python",
   "pygments_lexer": "ipython3",
   "version": "3.11.6"
  }
 },
 "nbformat": 4,
 "nbformat_minor": 5
}
